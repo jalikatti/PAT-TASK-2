{
 "cells": [
  {
   "cell_type": "code",
   "execution_count": 2,
   "metadata": {},
   "outputs": [
    {
     "name": "stdout",
     "output_type": "stream",
     "text": [
      "Total number of vowels: 12\n",
      "Count of A : 1\n",
      "Count of E : 5\n",
      "Count of I : 4\n",
      "Count of O : 1\n",
      "Count of U : 1\n"
     ]
    }
   ],
   "source": [
    "##Write a python program to calculate the total number of vowels and count of each individual \n",
    "#vowel A,E,I,O,U in the string \"Guvi Geeks Network Private Limited\" \n",
    "\n",
    "# Define the input string\n",
    "input_string = \"Guvi Geeks Network Private Limited\"\n",
    "\n",
    "# Convert the input string to lowercase \n",
    "input_string = input_string.lower()\n",
    "\n",
    "# Initializing the variables to store total count of vowels and count of each individual vowel\n",
    "total_vowels = 0\n",
    "vowel_counts = {'a': 0, 'e': 0, 'i': 0, 'o': 0, 'u': 0}\n",
    "\n",
    "# Iterate through each character in the input string\n",
    "for char in input_string:\n",
    "    # Check if the character is a vowel\n",
    "    if char == 'a':\n",
    "        total_vowels += 1\n",
    "        vowel_counts['a'] += 1\n",
    "    elif char == 'e':\n",
    "        total_vowels += 1\n",
    "        vowel_counts['e'] += 1\n",
    "    elif char == 'i':\n",
    "        total_vowels += 1\n",
    "        vowel_counts['i'] += 1\n",
    "    elif char == 'o':\n",
    "        total_vowels += 1\n",
    "        vowel_counts['o'] += 1\n",
    "    elif char == 'u':\n",
    "        total_vowels += 1\n",
    "        vowel_counts['u'] += 1\n",
    "\n",
    "# Print the total number of vowels\n",
    "print(\"Total number of vowels:\", total_vowels)\n",
    "\n",
    "# Print the count of each individual vowel\n",
    "for vowel, count in vowel_counts.items():\n",
    "    print(\"Count of\", vowel.upper(), \":\", count)\n"
   ]
  },
  {
   "cell_type": "code",
   "execution_count": null,
   "metadata": {},
   "outputs": [],
   "source": []
  },
  {
   "cell_type": "code",
   "execution_count": null,
   "metadata": {},
   "outputs": [],
   "source": []
  },
  {
   "cell_type": "code",
   "execution_count": null,
   "metadata": {},
   "outputs": [],
   "source": []
  },
  {
   "cell_type": "code",
   "execution_count": null,
   "metadata": {},
   "outputs": [],
   "source": []
  },
  {
   "cell_type": "code",
   "execution_count": null,
   "metadata": {},
   "outputs": [],
   "source": []
  }
 ],
 "metadata": {
  "kernelspec": {
   "display_name": "Python 3",
   "language": "python",
   "name": "python3"
  },
  "language_info": {
   "codemirror_mode": {
    "name": "ipython",
    "version": 3
   },
   "file_extension": ".py",
   "mimetype": "text/x-python",
   "name": "python",
   "nbconvert_exporter": "python",
   "pygments_lexer": "ipython3",
   "version": "3.12.2"
  }
 },
 "nbformat": 4,
 "nbformat_minor": 2
}
