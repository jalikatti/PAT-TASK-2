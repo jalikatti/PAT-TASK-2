{
 "cells": [
  {
   "cell_type": "code",
   "execution_count": 6,
   "metadata": {},
   "outputs": [
    {
     "name": "stdout",
     "output_type": "stream",
     "text": [
      "True\n"
     ]
    }
   ],
   "source": [
    "## Write a program that takes astring and returns True if it is an anagram of another string , False otherwise\n",
    "data_1 = \"Listen\"\n",
    "data_2 = \"Silent\"\n",
    "\n",
    "# Convert strings to lowercase before sorting and comparing\n",
    "if sorted(data_1.lower()) == sorted(data_2.lower()):\n",
    "    print(True)\n",
    "else:\n",
    "    print(False)\n",
    "\n"
   ]
  },
  {
   "cell_type": "code",
   "execution_count": 7,
   "metadata": {},
   "outputs": [
    {
     "name": "stdout",
     "output_type": "stream",
     "text": [
      "False\n"
     ]
    }
   ],
   "source": [
    "data_1 = \"Sun\"\n",
    "data_2 = \"Son\"\n",
    "\n",
    "# Convert strings to lowercase before sorting and comparing\n",
    "if sorted(data_1.lower()) == sorted(data_2.lower()):\n",
    "    print(True)\n",
    "else:\n",
    "    print(False)\n"
   ]
  }
 ],
 "metadata": {
  "kernelspec": {
   "display_name": "Python 3",
   "language": "python",
   "name": "python3"
  },
  "language_info": {
   "codemirror_mode": {
    "name": "ipython",
    "version": 3
   },
   "file_extension": ".py",
   "mimetype": "text/x-python",
   "name": "python",
   "nbconvert_exporter": "python",
   "pygments_lexer": "ipython3",
   "version": "3.12.2"
  }
 },
 "nbformat": 4,
 "nbformat_minor": 2
}
