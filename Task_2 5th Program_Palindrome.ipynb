{
 "cells": [
  {
   "cell_type": "code",
   "execution_count": 1,
   "metadata": {},
   "outputs": [
    {
     "name": "stdout",
     "output_type": "stream",
     "text": [
      "Is 'radar' a palindrome? True\n",
      "Is 'hello' a palindrome? False\n",
      "Is 'A man a plan a canal Panama' a palindrome? True\n",
      "Is 'My name is shruti' a palindorme? False\n"
     ]
    }
   ],
   "source": [
    "## write a program that takes a string and returns True if it is palindrome ,False otherwise\n",
    "\n",
    "\n",
    "def is_palindrome(input_string):\n",
    "    input_string = input_string.replace(\" \", \"\").lower()\n",
    "    \n",
    "    reversed_string = input_string[::-1]\n",
    "    \n",
    "    if input_string == reversed_string:\n",
    "        return True\n",
    "    else:\n",
    "        return False\n",
    "\n",
    "string1 = \"radar\"\n",
    "string2 = \"hello\"\n",
    "string3 = \"A man a plan a canal Panama\"\n",
    "string4 = \"My name is shruti\"\n",
    "\n",
    "print(\"Is '{}' a palindrome?\".format(string1), is_palindrome(string1))\n",
    "print(\"Is '{}' a palindrome?\".format(string2), is_palindrome(string2))\n",
    "print(\"Is '{}' a palindrome?\".format(string3), is_palindrome(string3))\n",
    "print(\"Is '{}' a palindorme?\".format(string4), is_palindrome(string4))\n"
   ]
  }
 ],
 "metadata": {
  "kernelspec": {
   "display_name": "Python 3",
   "language": "python",
   "name": "python3"
  },
  "language_info": {
   "codemirror_mode": {
    "name": "ipython",
    "version": 3
   },
   "file_extension": ".py",
   "mimetype": "text/x-python",
   "name": "python",
   "nbconvert_exporter": "python",
   "pygments_lexer": "ipython3",
   "version": "3.12.2"
  }
 },
 "nbformat": 4,
 "nbformat_minor": 2
}
