{
 "cells": [
  {
   "cell_type": "code",
   "execution_count": 2,
   "metadata": {},
   "outputs": [
    {
     "name": "stdout",
     "output_type": "stream",
     "text": [
      "frequent charcters used:  o\n"
     ]
    }
   ],
   "source": [
    "data = \"welcome to python class\"\n",
    "result = {}\n",
    "for i in data:\n",
    "    if i in result:\n",
    "        result[i] = result[i]+1\n",
    "    else:\n",
    "        result[i] = 1\n",
    "print(\"frequent charcters used: \", max(result, key = result.get))\n"
   ]
  }
 ],
 "metadata": {
  "kernelspec": {
   "display_name": "Python 3",
   "language": "python",
   "name": "python3"
  },
  "language_info": {
   "codemirror_mode": {
    "name": "ipython",
    "version": 3
   },
   "file_extension": ".py",
   "mimetype": "text/x-python",
   "name": "python",
   "nbconvert_exporter": "python",
   "pygments_lexer": "ipython3",
   "version": "3.12.2"
  }
 },
 "nbformat": 4,
 "nbformat_minor": 2
}
