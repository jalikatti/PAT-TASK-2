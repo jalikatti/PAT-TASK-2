{
 "cells": [
  {
   "cell_type": "code",
   "execution_count": 2,
   "metadata": {},
   "outputs": [
    {
     "name": "stdout",
     "output_type": "stream",
     "text": [
      "Longest common substring: am\n"
     ]
    }
   ],
   "source": [
    "## Write a program that takes two string and returns the longest common substring between them\n",
    "\n",
    "\n",
    "# Input strings\n",
    "string1 = \"I am from Bangalore\"\n",
    "string2 = \"My name is shruti\"\n",
    "\n",
    "max_length = 0\n",
    "start_index = 0\n",
    "\n",
    "dp = [[0] * (len(string2) + 1) for _ in range(len(string1) + 1)]\n",
    "\n",
    "for i in range(1, len(string1) + 1):\n",
    "    for j in range(1, len(string2) + 1):\n",
    "        if string1[i - 1] == string2[j - 1]:\n",
    "            dp[i][j] = dp[i - 1][j - 1] + 1\n",
    "            if dp[i][j] > max_length:\n",
    "                max_length = dp[i][j]\n",
    "                start_index = i - max_length\n",
    "\n",
    "longest_common_substring = string1[start_index:start_index + max_length]\n",
    "print(\"Longest common substring:\", longest_common_substring)\n",
    "\n"
   ]
  }
 ],
 "metadata": {
  "kernelspec": {
   "display_name": "Python 3",
   "language": "python",
   "name": "python3"
  },
  "language_info": {
   "codemirror_mode": {
    "name": "ipython",
    "version": 3
   },
   "file_extension": ".py",
   "mimetype": "text/x-python",
   "name": "python",
   "nbconvert_exporter": "python",
   "pygments_lexer": "ipython3",
   "version": "3.12.2"
  }
 },
 "nbformat": 4,
 "nbformat_minor": 2
}
