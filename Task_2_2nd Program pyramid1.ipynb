{
 "cells": [
  {
   "cell_type": "code",
   "execution_count": 1,
   "metadata": {},
   "outputs": [
    {
     "name": "stdout",
     "output_type": "stream",
     "text": [
      "      *\n",
      "     ***\n",
      "    *****\n",
      "   *******\n",
      "  *********\n",
      " ***********\n",
      "*************\n"
     ]
    }
   ],
   "source": [
    "rows = input(\"Enter no of rows : \")\n",
    "rows = int(rows)\n",
    "for i in range(1, rows+1):\n",
    "    result = 0  # Reset result for each row\n",
    "    for j in range(1, (rows-i)+1):\n",
    "        print(end=\" \")\n",
    "    while result != (2*i-1):\n",
    "        print(\"*\", end=\"\")\n",
    "        result = result + 1\n",
    "    print()\n"
   ]
  }
 ],
 "metadata": {
  "kernelspec": {
   "display_name": "Python 3",
   "language": "python",
   "name": "python3"
  },
  "language_info": {
   "codemirror_mode": {
    "name": "ipython",
    "version": 3
   },
   "file_extension": ".py",
   "mimetype": "text/x-python",
   "name": "python",
   "nbconvert_exporter": "python",
   "pygments_lexer": "ipython3",
   "version": "3.12.2"
  }
 },
 "nbformat": 4,
 "nbformat_minor": 2
}
